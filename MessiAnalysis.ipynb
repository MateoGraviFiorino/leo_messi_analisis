{
  "nbformat": 4,
  "nbformat_minor": 0,
  "metadata": {
    "colab": {
      "provenance": []
    },
    "kernelspec": {
      "name": "python3",
      "display_name": "Python 3"
    },
    "language_info": {
      "name": "python"
    }
  },
  "cells": [
    {
      "cell_type": "markdown",
      "source": [
        "#Data set\n",
        "\n",
        "https://www.kaggle.com/datasets/azminetoushikwasi/-lionel-messi-all-club-goals"
      ],
      "metadata": {
        "id": "ZSJH3hHbSm8h"
      }
    },
    {
      "cell_type": "markdown",
      "source": [
        "#Reading\n"
      ],
      "metadata": {
        "id": "7CCysDGfSsEA"
      }
    },
    {
      "cell_type": "code",
      "execution_count": 1,
      "metadata": {
        "id": "XEA-GpdIOsmF",
        "colab": {
          "base_uri": "https://localhost:8080/",
          "height": 206
        },
        "outputId": "46960e9a-f358-471f-b060-18ae8372eb9a"
      },
      "outputs": [
        {
          "output_type": "execute_result",
          "data": {
            "text/plain": [
              "  Season            Competition     Matchday      Date Venue          Club  \\\n",
              "0  04/05                 LaLiga           34  05-01/05     H  FC Barcelona   \n",
              "1  05/06  UEFA Champions League  Group Stage  11-02/05     H  FC Barcelona   \n",
              "2  05/06                 LaLiga           13  11/27/05     H  FC Barcelona   \n",
              "3  05/06                 LaLiga           19   1/15/06     H  FC Barcelona   \n",
              "4  05/06                 LaLiga           20   1/22/06     H  FC Barcelona   \n",
              "\n",
              "               Opponent Result Playing_Position Minute At_score  \\\n",
              "0     Albacete Balompie   2:00               CF   90+1     2:00   \n",
              "1  Panathinaikos Athens   5:00               RW     34     3:00   \n",
              "2      Racing Santander   4:01               RW     51     2:00   \n",
              "3       Athletic Bilbao   2:01               RW     50     2:01   \n",
              "4      Deportivo Alaves   2:00               CF     82     2:00   \n",
              "\n",
              "               Type        Goal_assist  \n",
              "0  Left-footed shot  Ronaldinho Gaacho  \n",
              "1  Left-footed shot                NaN  \n",
              "2  Left-footed shot        Samuel Etoo  \n",
              "3  Left-footed shot    Mark van Bommel  \n",
              "4  Left-footed shot  Ronaldinho Gaacho  "
            ],
            "text/html": [
              "\n",
              "  <div id=\"df-b8b186b1-8787-4c99-a9eb-396fb7b20dea\">\n",
              "    <div class=\"colab-df-container\">\n",
              "      <div>\n",
              "<style scoped>\n",
              "    .dataframe tbody tr th:only-of-type {\n",
              "        vertical-align: middle;\n",
              "    }\n",
              "\n",
              "    .dataframe tbody tr th {\n",
              "        vertical-align: top;\n",
              "    }\n",
              "\n",
              "    .dataframe thead th {\n",
              "        text-align: right;\n",
              "    }\n",
              "</style>\n",
              "<table border=\"1\" class=\"dataframe\">\n",
              "  <thead>\n",
              "    <tr style=\"text-align: right;\">\n",
              "      <th></th>\n",
              "      <th>Season</th>\n",
              "      <th>Competition</th>\n",
              "      <th>Matchday</th>\n",
              "      <th>Date</th>\n",
              "      <th>Venue</th>\n",
              "      <th>Club</th>\n",
              "      <th>Opponent</th>\n",
              "      <th>Result</th>\n",
              "      <th>Playing_Position</th>\n",
              "      <th>Minute</th>\n",
              "      <th>At_score</th>\n",
              "      <th>Type</th>\n",
              "      <th>Goal_assist</th>\n",
              "    </tr>\n",
              "  </thead>\n",
              "  <tbody>\n",
              "    <tr>\n",
              "      <th>0</th>\n",
              "      <td>04/05</td>\n",
              "      <td>LaLiga</td>\n",
              "      <td>34</td>\n",
              "      <td>05-01/05</td>\n",
              "      <td>H</td>\n",
              "      <td>FC Barcelona</td>\n",
              "      <td>Albacete Balompie</td>\n",
              "      <td>2:00</td>\n",
              "      <td>CF</td>\n",
              "      <td>90+1</td>\n",
              "      <td>2:00</td>\n",
              "      <td>Left-footed shot</td>\n",
              "      <td>Ronaldinho Gaacho</td>\n",
              "    </tr>\n",
              "    <tr>\n",
              "      <th>1</th>\n",
              "      <td>05/06</td>\n",
              "      <td>UEFA Champions League</td>\n",
              "      <td>Group Stage</td>\n",
              "      <td>11-02/05</td>\n",
              "      <td>H</td>\n",
              "      <td>FC Barcelona</td>\n",
              "      <td>Panathinaikos Athens</td>\n",
              "      <td>5:00</td>\n",
              "      <td>RW</td>\n",
              "      <td>34</td>\n",
              "      <td>3:00</td>\n",
              "      <td>Left-footed shot</td>\n",
              "      <td>NaN</td>\n",
              "    </tr>\n",
              "    <tr>\n",
              "      <th>2</th>\n",
              "      <td>05/06</td>\n",
              "      <td>LaLiga</td>\n",
              "      <td>13</td>\n",
              "      <td>11/27/05</td>\n",
              "      <td>H</td>\n",
              "      <td>FC Barcelona</td>\n",
              "      <td>Racing Santander</td>\n",
              "      <td>4:01</td>\n",
              "      <td>RW</td>\n",
              "      <td>51</td>\n",
              "      <td>2:00</td>\n",
              "      <td>Left-footed shot</td>\n",
              "      <td>Samuel Etoo</td>\n",
              "    </tr>\n",
              "    <tr>\n",
              "      <th>3</th>\n",
              "      <td>05/06</td>\n",
              "      <td>LaLiga</td>\n",
              "      <td>19</td>\n",
              "      <td>1/15/06</td>\n",
              "      <td>H</td>\n",
              "      <td>FC Barcelona</td>\n",
              "      <td>Athletic Bilbao</td>\n",
              "      <td>2:01</td>\n",
              "      <td>RW</td>\n",
              "      <td>50</td>\n",
              "      <td>2:01</td>\n",
              "      <td>Left-footed shot</td>\n",
              "      <td>Mark van Bommel</td>\n",
              "    </tr>\n",
              "    <tr>\n",
              "      <th>4</th>\n",
              "      <td>05/06</td>\n",
              "      <td>LaLiga</td>\n",
              "      <td>20</td>\n",
              "      <td>1/22/06</td>\n",
              "      <td>H</td>\n",
              "      <td>FC Barcelona</td>\n",
              "      <td>Deportivo Alaves</td>\n",
              "      <td>2:00</td>\n",
              "      <td>CF</td>\n",
              "      <td>82</td>\n",
              "      <td>2:00</td>\n",
              "      <td>Left-footed shot</td>\n",
              "      <td>Ronaldinho Gaacho</td>\n",
              "    </tr>\n",
              "  </tbody>\n",
              "</table>\n",
              "</div>\n",
              "      <button class=\"colab-df-convert\" onclick=\"convertToInteractive('df-b8b186b1-8787-4c99-a9eb-396fb7b20dea')\"\n",
              "              title=\"Convert this dataframe to an interactive table.\"\n",
              "              style=\"display:none;\">\n",
              "        \n",
              "  <svg xmlns=\"http://www.w3.org/2000/svg\" height=\"24px\"viewBox=\"0 0 24 24\"\n",
              "       width=\"24px\">\n",
              "    <path d=\"M0 0h24v24H0V0z\" fill=\"none\"/>\n",
              "    <path d=\"M18.56 5.44l.94 2.06.94-2.06 2.06-.94-2.06-.94-.94-2.06-.94 2.06-2.06.94zm-11 1L8.5 8.5l.94-2.06 2.06-.94-2.06-.94L8.5 2.5l-.94 2.06-2.06.94zm10 10l.94 2.06.94-2.06 2.06-.94-2.06-.94-.94-2.06-.94 2.06-2.06.94z\"/><path d=\"M17.41 7.96l-1.37-1.37c-.4-.4-.92-.59-1.43-.59-.52 0-1.04.2-1.43.59L10.3 9.45l-7.72 7.72c-.78.78-.78 2.05 0 2.83L4 21.41c.39.39.9.59 1.41.59.51 0 1.02-.2 1.41-.59l7.78-7.78 2.81-2.81c.8-.78.8-2.07 0-2.86zM5.41 20L4 18.59l7.72-7.72 1.47 1.35L5.41 20z\"/>\n",
              "  </svg>\n",
              "      </button>\n",
              "      \n",
              "  <style>\n",
              "    .colab-df-container {\n",
              "      display:flex;\n",
              "      flex-wrap:wrap;\n",
              "      gap: 12px;\n",
              "    }\n",
              "\n",
              "    .colab-df-convert {\n",
              "      background-color: #E8F0FE;\n",
              "      border: none;\n",
              "      border-radius: 50%;\n",
              "      cursor: pointer;\n",
              "      display: none;\n",
              "      fill: #1967D2;\n",
              "      height: 32px;\n",
              "      padding: 0 0 0 0;\n",
              "      width: 32px;\n",
              "    }\n",
              "\n",
              "    .colab-df-convert:hover {\n",
              "      background-color: #E2EBFA;\n",
              "      box-shadow: 0px 1px 2px rgba(60, 64, 67, 0.3), 0px 1px 3px 1px rgba(60, 64, 67, 0.15);\n",
              "      fill: #174EA6;\n",
              "    }\n",
              "\n",
              "    [theme=dark] .colab-df-convert {\n",
              "      background-color: #3B4455;\n",
              "      fill: #D2E3FC;\n",
              "    }\n",
              "\n",
              "    [theme=dark] .colab-df-convert:hover {\n",
              "      background-color: #434B5C;\n",
              "      box-shadow: 0px 1px 3px 1px rgba(0, 0, 0, 0.15);\n",
              "      filter: drop-shadow(0px 1px 2px rgba(0, 0, 0, 0.3));\n",
              "      fill: #FFFFFF;\n",
              "    }\n",
              "  </style>\n",
              "\n",
              "      <script>\n",
              "        const buttonEl =\n",
              "          document.querySelector('#df-b8b186b1-8787-4c99-a9eb-396fb7b20dea button.colab-df-convert');\n",
              "        buttonEl.style.display =\n",
              "          google.colab.kernel.accessAllowed ? 'block' : 'none';\n",
              "\n",
              "        async function convertToInteractive(key) {\n",
              "          const element = document.querySelector('#df-b8b186b1-8787-4c99-a9eb-396fb7b20dea');\n",
              "          const dataTable =\n",
              "            await google.colab.kernel.invokeFunction('convertToInteractive',\n",
              "                                                     [key], {});\n",
              "          if (!dataTable) return;\n",
              "\n",
              "          const docLinkHtml = 'Like what you see? Visit the ' +\n",
              "            '<a target=\"_blank\" href=https://colab.research.google.com/notebooks/data_table.ipynb>data table notebook</a>'\n",
              "            + ' to learn more about interactive tables.';\n",
              "          element.innerHTML = '';\n",
              "          dataTable['output_type'] = 'display_data';\n",
              "          await google.colab.output.renderOutput(dataTable, element);\n",
              "          const docLink = document.createElement('div');\n",
              "          docLink.innerHTML = docLinkHtml;\n",
              "          element.appendChild(docLink);\n",
              "        }\n",
              "      </script>\n",
              "    </div>\n",
              "  </div>\n",
              "  "
            ]
          },
          "metadata": {},
          "execution_count": 1
        }
      ],
      "source": [
        "import pandas as pd\n",
        "import matplotlib.pyplot as plt\n",
        "import numpy as np\n",
        "\n",
        "data = pd.read_csv(\"/content/archive.zip\")\n",
        "pd.set_option(\"display.max_columns\",104)\n",
        "data.head()"
      ]
    },
    {
      "cell_type": "markdown",
      "source": [
        "#Filtrado de datos\n"
      ],
      "metadata": {
        "id": "xREC40RBS5_R"
      }
    },
    {
      "cell_type": "code",
      "source": [
        "df = data[['Season','Date','Opponent','Result','Minute','Goal_assist']].copy()\n"
      ],
      "metadata": {
        "id": "b__eAEK7S9-o"
      },
      "execution_count": 18,
      "outputs": []
    },
    {
      "cell_type": "markdown",
      "source": [
        "#¿A qué equipo le convirtió más goles?\n"
      ],
      "metadata": {
        "id": "8LStlzmkTeVY"
      }
    },
    {
      "cell_type": "code",
      "source": [
        "clubes = df.groupby(['Opponent'])['Opponent'].apply(lambda x: x.count())\n",
        "graf = clubes.sort_values(ascending=False).head(10)\n",
        "\n",
        "graf.plot(kind='bar')"
      ],
      "metadata": {
        "colab": {
          "base_uri": "https://localhost:8080/",
          "height": 408
        },
        "id": "U4qDbtIQTicY",
        "outputId": "a9f09b04-587b-4c31-c998-acae70c7967c"
      },
      "execution_count": 31,
      "outputs": [
        {
          "output_type": "execute_result",
          "data": {
            "text/plain": [
              "<matplotlib.axes._subplots.AxesSubplot at 0x7f54b99c74f0>"
            ]
          },
          "metadata": {},
          "execution_count": 31
        },
        {
          "output_type": "display_data",
          "data": {
            "text/plain": [
              "<Figure size 432x288 with 1 Axes>"
            ],
            "image/png": "[encoded data removed]"
          },
          "metadata": {
            "needs_background": "light"
          }
        }
      ]
    },
    {
      "cell_type": "markdown",
      "source": [
        "#¿En qué minuto hizo mas goles?"
      ],
      "metadata": {
        "id": "YNwTWka7Uf-s"
      }
    },
    {
      "cell_type": "code",
      "source": [
        "minuto = df.groupby(['Minute'])['Minute'].apply(lambda x: x.count())\n",
        "minuto = minuto.sort_values(ascending = False).head(10)\n",
        "\n",
        "minuto.plot(kind='bar')"
      ],
      "metadata": {
        "colab": {
          "base_uri": "https://localhost:8080/",
          "height": 299
        },
        "id": "fb_ERZoCUnp3",
        "outputId": "1264f8bb-661a-4442-f93b-3eb8976a6d57"
      },
      "execution_count": 32,
      "outputs": [
        {
          "output_type": "execute_result",
          "data": {
            "text/plain": [
              "<matplotlib.axes._subplots.AxesSubplot at 0x7f54b9b96bb0>"
            ]
          },
          "metadata": {},
          "execution_count": 32
        },
        {
          "output_type": "display_data",
          "data": {
            "text/plain": [
              "<Figure size 432x288 with 1 Axes>"
            ],
            "image/png": "[encoded data removed]"
          },
          "metadata": {
            "needs_background": "light"
          }
        }
      ]
    },
    {
      "cell_type": "markdown",
      "source": [
        "#¿Qué jugador lo asistió más?"
      ],
      "metadata": {
        "id": "us38qupkU92y"
      }
    },
    {
      "cell_type": "code",
      "source": [
        "asist = df.groupby(['Goal_assist'])['Goal_assist'].apply(lambda x: x.count())\n",
        "asistidor = asist.sort_values(ascending = False).head(10)\n",
        "\n",
        "asistidor.plot(kind='bar')"
      ],
      "metadata": {
        "colab": {
          "base_uri": "https://localhost:8080/",
          "height": 371
        },
        "id": "rJ0mJE0XVBo3",
        "outputId": "b888afa0-3e6a-4935-a1b5-a58a82f35c1b"
      },
      "execution_count": 33,
      "outputs": [
        {
          "output_type": "execute_result",
          "data": {
            "text/plain": [
              "<matplotlib.axes._subplots.AxesSubplot at 0x7f54b9ea5490>"
            ]
          },
          "metadata": {},
          "execution_count": 33
        },
        {
          "output_type": "display_data",
          "data": {
            "text/plain": [
              "<Figure size 432x288 with 1 Axes>"
            ],
            "image/png": "[encoded data removed]"
          },
          "metadata": {
            "needs_background": "light"
          }
        }
      ]
    }
  ]
}